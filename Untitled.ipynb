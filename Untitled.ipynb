{
 "cells": [
  {
   "cell_type": "code",
   "execution_count": 23,
   "id": "3bd2e832",
   "metadata": {},
   "outputs": [],
   "source": [
    "import re\n",
    "import heapq\n",
    "import matplotlib.pyplot as plt\n",
    "\n",
    "text = r\"Жили старик со старухой. Однажды старик попросил старуху испечь ему колобок (круглый хлеб). Мука у стариков кончилась. Старуха смела остатки, замесила их на сметане, испекла колобок и поставила на окошко остывать. Колобок полежал немного, потом вдруг ожил, соскочил с окна, выкатился из избы и покатился за ворота. Катится колобок по дороге, а навстречу ему заяц. Захотел заяц колобка съесть, но тот попросил не есть его, спел хвастливую песенку и покатился дальше.Затем колобок встретил по очереди волка и медведя. Они хотели его съесть, но колобок пел им свою песенку и катился дальше. Наконец колобок встретил хитрую лису и ей тоже спел свою песенку. Лиса притворилась глуховатой и попросила колобка сесть ей на мордочку и спеть ещё раз. Колобок так и сделал. Лиса сказала, что песенка ей очень понравилась, и попросила сесть ей на язычок и спеть в последний раз. Глупый колобок прыгнул лисе на язык, а «лиса — ам его! — и скушала».\"\n",
    "sentences = re.split(r' *[\\.\\?!][\\'\"\\)\\]]* *', text)\n",
    "clean_text = text.lower()\n",
    "word_tokenize = clean_text.split()\n",
    "\n",
    "# стоп-слова рус яз\n",
    "stop_words = [\"а\",\"е\",\"и\",\"ж\",\"м\",\"о\",\"на\",\"не\",\"ни\",\"об\",\"но\",\"он\",\"мне\",\"мои\",\"мож\",\"она\",\"они\",\"оно\",\"мной\",\"много\",\"многочисленное\",\"многочисленная\",\"многочисленные\",\"многочисленный\",\"мною\",\"мой\",\"мог\",\"могут\",\"можно\",\"может\",\"можхо\",\"мор\",\"моя\",\"моё\",\"мочь\",\"над\",\"нее\",\"оба\",\"нам\",\"нем\",\"нами\",\"ними\",\"мимо\",\"немного\",\"одной\",\"одного\",\"менее\",\"однажды\",\"однако\",\"меня\",\"нему\",\"меньше\",\"ней\",\"наверху\",\"него\",\"ниже\",\"мало\",\"надо\",\"один\",\"одиннадцать\",\"одиннадцатый\",\"назад\",\"наиболее\",\"недавно\",\"миллионов\",\"недалеко\",\"между\",\"низко\",\"меля\",\"нельзя\",\"нибудь\",\"непрерывно\",\"наконец\",\"никогда\",\"никуда\",\"нас\",\"наш\",\"нет\",\"нею\",\"неё\",\"них\",\"мира\",\"наша\",\"наше\",\"наши\",\"ничего\",\"начала\",\"нередко\",\"несколько\",\"обычно\",\"опять\",\"около\",\"мы\",\"ну\",\"нх\",\"от\",\"отовсюду\",\"особенно\",\"нужно\",\"очень\",\"отсюда\",\"в\",\"во\",\"вон\",\"вниз\",\"внизу\",\"вокруг\",\"вот\",\"восемнадцать\",\"восемнадцатый\",\"восемь\",\"восьмой\",\"вверх\",\"вам\",\"вами\",\"важное\",\"важная\",\"важные\",\"важный\",\"вдали\",\"везде\",\"ведь\",\"вас\",\"ваш\",\"ваша\",\"ваше\",\"ваши\",\"впрочем\",\"весь\",\"вдруг\",\"вы\",\"все\",\"второй\",\"всем\",\"всеми\",\"времени\",\"время\",\"всему\",\"всего\",\"всегда\",\"всех\",\"всею\",\"всю\",\"вся\",\"всё\",\"всюду\",\"г\",\"год\",\"говорил\",\"говорит\",\"года\",\"году\",\"где\",\"да\",\"ее\",\"за\",\"из\",\"ли\",\"же\",\"им\",\"до\",\"по\",\"ими\",\"под\",\"иногда\",\"довольно\",\"именно\",\"долго\",\"позже\",\"более\",\"должно\",\"пожалуйста\",\"значит\",\"иметь\",\"больше\",\"пока\",\"ему\",\"имя\",\"пор\",\"пора\",\"потом\",\"потому\",\"после\",\"почему\",\"почти\",\"посреди\",\"ей\",\"два\",\"две\",\"двенадцать\",\"двенадцатый\",\"двадцать\",\"двадцатый\",\"двух\",\"его\",\"дел\",\"или\",\"без\",\"день\",\"занят\",\"занята\",\"занято\",\"заняты\",\"действительно\",\"давно\",\"девятнадцать\",\"девятнадцатый\",\"девять\",\"девятый\",\"даже\",\"алло\",\"жизнь\",\"далеко\",\"близко\",\"здесь\",\"дальше\",\"для\",\"лет\",\"зато\",\"даром\",\"первый\",\"перед\",\"затем\",\"зачем\",\"лишь\",\"десять\",\"десятый\",\"ею\",\"её\",\"их\",\"бы\",\"еще\",\"при\",\"был\",\"про\",\"процентов\",\"против\",\"просто\",\"бывает\",\"бывь\",\"если\",\"люди\",\"была\",\"были\",\"было\",\"будем\",\"будет\",\"будете\",\"будешь\",\"прекрасно\",\"буду\",\"будь\",\"будто\",\"будут\",\"ещё\",\"пятнадцать\",\"пятнадцатый\",\"друго\",\"другое\",\"другой\",\"другие\",\"другая\",\"других\",\"есть\",\"пять\",\"быть\",\"лучше\",\"пятый\",\"к\",\"ком\",\"конечно\",\"кому\",\"кого\",\"когда\",\"которой\",\"которого\",\"которая\",\"которые\",\"который\",\"которых\",\"кем\",\"каждое\",\"каждая\",\"каждые\",\"каждый\",\"кажется\",\"как\",\"какой\",\"какая\",\"кто\",\"кроме\",\"куда\",\"кругом\",\"с\",\"т\",\"у\",\"я\",\"та\",\"те\",\"уж\",\"со\",\"то\",\"том\",\"снова\",\"тому\",\"совсем\",\"того\",\"тогда\",\"тоже\",\"собой\",\"тобой\",\"собою\",\"тобою\",\"сначала\",\"только\",\"уметь\",\"тот\",\"тою\",\"хорошо\",\"хотеть\",\"хочешь\",\"хоть\",\"хотя\",\"свое\",\"свои\",\"твой\",\"своей\",\"своего\",\"своих\",\"свою\",\"твоя\",\"твоё\",\"раз\",\"уже\",\"сам\",\"там\",\"тем\",\"чем\",\"сама\",\"сами\",\"теми\",\"само\",\"рано\",\"самом\",\"самому\",\"самой\",\"самого\",\"семнадцать\",\"семнадцатый\",\"самим\",\"самими\",\"самих\",\"саму\",\"семь\",\"чему\",\"раньше\",\"сейчас\",\"чего\",\"сегодня\",\"себе\",\"тебе\",\"сеаой\",\"человек\",\"разве\",\"теперь\",\"себя\",\"тебя\",\"седьмой\",\"спасибо\",\"слишком\",\"так\",\"такое\",\"такой\",\"такие\",\"также\",\"такая\",\"сих\",\"тех\",\"чаще\",\"четвертый\",\"через\",\"часто\",\"шестой\",\"шестнадцать\",\"шестнадцатый\",\"шесть\",\"четыре\",\"четырнадцать\",\"четырнадцатый\",\"сколько\",\"сказал\",\"сказала\",\"сказать\",\"ту\",\"ты\",\"три\",\"эта\",\"эти\",\"что\",\"это\",\"чтоб\",\"этом\",\"этому\",\"этой\",\"этого\",\"чтобы\",\"этот\",\"стал\",\"туда\",\"этим\",\"этими\",\"рядом\",\"тринадцать\",\"тринадцатый\",\"этих\",\"третий\",\"тут\",\"эту\",\"суть\",\"чуть\",\"тысяч\"]\n",
    "word2count = {}\n",
    "for word in word_tokenize:\n",
    "    if word not in stop_words:\n",
    "        if word not in word2count.keys():\n",
    "            word2count[word] = 1\n",
    "        else:\n",
    "            word2count[word] += 1\n",
    "\n",
    "# взвешенная гистограмма\n",
    "word2count_ = {}\n",
    "for key in word2count.keys():\n",
    "    word2count_[key] = word2count[key] / max(word2count.values()) # насколько частовстречается данное слово, относительно САМОГ7О частовстречаемого"
   ]
  },
  {
   "cell_type": "code",
   "execution_count": 26,
   "id": "d181a842",
   "metadata": {},
   "outputs": [
    {
     "data": {
      "image/png": "[encoded data removed]",
      "text/plain": [
       "<Figure size 640x480 with 1 Axes>"
      ]
     },
     "metadata": {},
     "output_type": "display_data"
    }
   ],
   "source": [
    "plt.hist(word2count.values(), bins=100)\n",
    "plt.show()"
   ]
  },
  {
   "cell_type": "code",
   "execution_count": 25,
   "id": "ac7bc10f",
   "metadata": {},
   "outputs": [
    {
     "data": {
      "image/png": "[encoded data removed]",
      "text/plain": [
       "<Figure size 640x480 with 1 Axes>"
      ]
     },
     "metadata": {},
     "output_type": "display_data"
    }
   ],
   "source": [
    "plt.hist(list(word2count_.values()), bins=100)\n",
    "plt.show()"
   ]
  },
  {
   "cell_type": "code",
   "execution_count": 34,
   "id": "213bc1dd",
   "metadata": {},
   "outputs": [],
   "source": [
    "import numpy as np\n",
    "res = {k: v for k, v in zip(*np.unique(list(filter(lambda word: word not in stop_words, word_tokenize)), return_counts=True))}"
   ]
  },
  {
   "cell_type": "code",
   "execution_count": 35,
   "id": "d3ec1eaa",
   "metadata": {},
   "outputs": [],
   "source": [
    "u, c = np.unique(list(filter(lambda word: word not in stop_words, word_tokenize)), return_counts=True)"
   ]
  },
  {
   "cell_type": "code",
   "execution_count": 43,
   "id": "a197b748",
   "metadata": {},
   "outputs": [
    {
     "name": "stdout",
     "output_type": "stream",
     "text": [
      "('(круглый', 1)\n",
      "('«лиса', 1)\n",
      "('ам', 1)\n",
      "('волка', 1)\n",
      "('ворота.', 1)\n",
      "('встретил', 2)\n",
      "('выкатился', 1)\n",
      "('глупый', 1)\n",
      "('глуховатой', 1)\n",
      "('дальше.', 1)\n",
      "('дальше.затем', 1)\n",
      "('дороге,', 1)\n",
      "('его!', 1)\n",
      "('его,', 1)\n",
      "('жили', 1)\n",
      "('замесила', 1)\n",
      "('захотел', 1)\n",
      "('заяц', 1)\n",
      "('заяц.', 1)\n",
      "('избы', 1)\n",
      "('испекла', 1)\n",
      "('испечь', 1)\n",
      "('катился', 1)\n",
      "('катится', 1)\n",
      "('колобка', 2)\n",
      "('колобок', 9)\n",
      "('кончилась.', 1)\n",
      "('лиса', 2)\n",
      "('лисе', 1)\n",
      "('лису', 1)\n",
      "('медведя.', 1)\n",
      "('мордочку', 1)\n",
      "('мука', 1)\n",
      "('навстречу', 1)\n",
      "('немного,', 1)\n",
      "('ожил,', 1)\n",
      "('окна,', 1)\n",
      "('окошко', 1)\n",
      "('остатки,', 1)\n",
      "('остывать.', 1)\n",
      "('очереди', 1)\n",
      "('пел', 1)\n",
      "('песенка', 1)\n",
      "('песенку', 2)\n",
      "('песенку.', 1)\n",
      "('покатился', 2)\n",
      "('полежал', 1)\n",
      "('понравилась,', 1)\n",
      "('попросил', 2)\n",
      "('попросила', 2)\n",
      "('последний', 1)\n",
      "('поставила', 1)\n",
      "('притворилась', 1)\n",
      "('прыгнул', 1)\n",
      "('раз.', 2)\n",
      "('сделал.', 1)\n",
      "('сесть', 2)\n",
      "('сказала,', 1)\n",
      "('скушала».', 1)\n",
      "('смела', 1)\n",
      "('сметане,', 1)\n",
      "('соскочил', 1)\n",
      "('спел', 2)\n",
      "('спеть', 2)\n",
      "('старик', 2)\n",
      "('стариков', 1)\n",
      "('старуха', 1)\n",
      "('старухой.', 1)\n",
      "('старуху', 1)\n",
      "('съесть,', 2)\n",
      "('хвастливую', 1)\n",
      "('хитрую', 1)\n",
      "('хлеб).', 1)\n",
      "('хотели', 1)\n",
      "('язык,', 1)\n",
      "('язычок', 1)\n",
      "('—', 2)\n"
     ]
    }
   ],
   "source": [
    "for e in zip(u,c):\n",
    "    print(e)"
   ]
  },
  {
   "cell_type": "code",
   "execution_count": null,
   "id": "ad633a4c",
   "metadata": {},
   "outputs": [],
   "source": [
    "{\"a\": 3, \"b\": 4}"
   ]
  }
 ],
 "metadata": {
  "kernelspec": {
   "display_name": "Python 3 (ipykernel)",
   "language": "python",
   "name": "python3"
  },
  "language_info": {
   "codemirror_mode": {
    "name": "ipython",
    "version": 3
   },
   "file_extension": ".py",
   "mimetype": "text/x-python",
   "name": "python",
   "nbconvert_exporter": "python",
   "pygments_lexer": "ipython3",
   "version": "3.10.10"
  }
 },
 "nbformat": 4,
 "nbformat_minor": 5
}
